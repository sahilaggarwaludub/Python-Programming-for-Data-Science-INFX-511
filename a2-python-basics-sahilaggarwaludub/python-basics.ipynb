{
 "cells": [
  {
   "cell_type": "markdown",
   "metadata": {},
   "source": [
    "# a2 - Python Basics\n",
    "Fill in the below code cells as specified. Note that cells may utilize variables and functions defined in previous cells; we should be able to use the `Kernal > Restart & Clear All` menu item followed by `Cell > Run All` to execute your entire notebook and see the correct output."
   ]
  },
  {
   "cell_type": "markdown",
   "metadata": {},
   "source": [
    "## Part 1. Introductions"
   ]
  },
  {
   "cell_type": "markdown",
   "metadata": {},
   "source": [
    "Create a variable **`my_name`** that stores your name (a string)."
   ]
  },
  {
   "cell_type": "code",
   "execution_count": 1,
   "metadata": {},
   "outputs": [],
   "source": [
    "my_name = 'Sahil'"
   ]
  },
  {
   "cell_type": "markdown",
   "metadata": {},
   "source": [
    "Create a variable **`my_age`** that stores your age (a number)."
   ]
  },
  {
   "cell_type": "code",
   "execution_count": 2,
   "metadata": {},
   "outputs": [],
   "source": [
    "my_age = 25"
   ]
  },
  {
   "cell_type": "markdown",
   "metadata": {},
   "source": [
    "Define a function **`make_introduction()`** that takes in two arguments: a name and an age. The function should _return_ a string of the format `\"Hello, my name is {NAME} and I'm {AGE} years old.\"` (replacing `{NAME}` and `{AGE}` with the arguments).\n",
    "- Note that you can turn a number into a string using the built-in `str()` function. "
   ]
  },
  {
   "cell_type": "code",
   "execution_count": 3,
   "metadata": {},
   "outputs": [],
   "source": [
    "def make_introduction(name,age):\n",
    "    \"\"\"The function takes in two arguments: a name and an age. The function returns a string with introduction\"\"\"\n",
    "    a = \"Hello, my name is \"+name+\" and I'm \"+str(age)+\" years old.\"\n",
    "    return a"
   ]
  },
  {
   "cell_type": "markdown",
   "metadata": {},
   "source": [
    "Create a variable **`my_intro`** by passing your variables `my_name` and `my_age` into your `make_introduction()` function. Print the variable after you create it."
   ]
  },
  {
   "cell_type": "code",
   "execution_count": 4,
   "metadata": {},
   "outputs": [
    {
     "name": "stdout",
     "output_type": "stream",
     "text": [
      "Hello, my name is Sahil and I'm 25 years old.\n"
     ]
    }
   ],
   "source": [
    "my_intro = make_introduction(my_name,my_age)\n",
    "print(my_intro)"
   ]
  },
  {
   "cell_type": "markdown",
   "metadata": {},
   "source": [
    "Create a variable **`loud_intro`**, which is your `my_intro` variable with all of the letters capitalized (use the `upper()` string method). Print the variable after you create it."
   ]
  },
  {
   "cell_type": "code",
   "execution_count": 5,
   "metadata": {},
   "outputs": [
    {
     "name": "stdout",
     "output_type": "stream",
     "text": [
      "HELLO, MY NAME IS SAHIL AND I'M 25 YEARS OLD.\n"
     ]
    }
   ],
   "source": [
    "loud_intro = my_intro.upper()\n",
    "print(loud_intro)"
   ]
  },
  {
   "cell_type": "markdown",
   "metadata": {},
   "source": [
    "Create a variable **`casual_intro`** by using the `replace()` string function to replace (substitute) \"Hello, my name is\", with \"Hey, I'm\" in your `my_intro` variable. You may need to look up the arguments for this function! Print the variable after you create it."
   ]
  },
  {
   "cell_type": "code",
   "execution_count": 6,
   "metadata": {},
   "outputs": [
    {
     "name": "stdout",
     "output_type": "stream",
     "text": [
      "Hey, I'm Sahil and I'm 25 years old.\n"
     ]
    }
   ],
   "source": [
    "casual_intro = my_intro.replace(\"Hello, my name is\",\"Hey, I'm\")\n",
    "print(casual_intro)"
   ]
  },
  {
   "cell_type": "markdown",
   "metadata": {},
   "source": [
    "Create a variable `intro_e_count` that stores the number of times the letter `'e'` (lower-case only) appears in the `my_intro` variable. Find a [string method](https://docs.python.org/3.6/library/stdtypes.html#string-methods) that will \"count\" the occurences. Print the variable after you create it."
   ]
  },
  {
   "cell_type": "code",
   "execution_count": 7,
   "metadata": {},
   "outputs": [
    {
     "name": "stdout",
     "output_type": "stream",
     "text": [
      "3\n"
     ]
    }
   ],
   "source": [
    "intro_e_count = my_intro.count('e')\n",
    "print(intro_e_count)"
   ]
  },
  {
   "cell_type": "markdown",
   "metadata": {},
   "source": [
    "## Part 2. Money"
   ]
  },
  {
   "cell_type": "markdown",
   "metadata": {},
   "source": [
    "Define a function **`compound_interest()`** that takes three arguments: an initial bank balance (principle, in dollars), an annual interest rate, and a number of years. The function should calculate the [continuous compound interest](https://en.wikipedia.org/wiki/Compound_interest#Continuous_compounding) and _return_ the resulting total balance after that many number of years.\n",
    "- See [here](http://www.mathwarehouse.com/calculators/continuous-compound-interest-calculator.php) for an example of the formula and a calculator you can use to check your work.\n",
    "- Be sure and call your function with some testing numbers: \\$1000 at 6% for 5 years should lead to a balance of \\$1349.86.\n",
    "- You will need to import the `math` module for mathematical functions."
   ]
  },
  {
   "cell_type": "code",
   "execution_count": 8,
   "metadata": {},
   "outputs": [
    {
     "name": "stdout",
     "output_type": "stream",
     "text": [
      "1349.858807576003\n"
     ]
    }
   ],
   "source": [
    "import math\n",
    "def compound_interest(principle,rate,years):\n",
    "    \"\"\"This function takes three arguments: an initial bank balance (principle, in dollars), an annual interest rate, and a number of years. The function calculates the continuous compound interest and return the resulting total balance after that many number of years.\"\"\"\n",
    "    amount = principle*math.exp((rate/100)*years)\n",
    "    return amount\n",
    "print(compound_interest(1000,6,5))"
   ]
  },
  {
   "cell_type": "markdown",
   "metadata": {},
   "source": [
    "Define a function **`print_earnings()`** that takes three numbers as arguments: an initial principle, an annual interest rate, and a number of years. This function should _print out_ the earnings over this period in the following format:\n",
    "\n",
    "```\n",
    "Initial principle: $1000\n",
    "Annual interest rate: %6.0\n",
    "Interest earned in 5 years: $349.86\n",
    "Total value after 5 years: $1349.86\n",
    "```\n",
    "\n",
    "Note that interest rate should be printed as a percentage, monetary values should have a leading `$`, and you should round monetary values to the nearest penny. Don't worry about extra or missing trailing 0s (in values like `%6.0` or `$101.5`)."
   ]
  },
  {
   "cell_type": "code",
   "execution_count": 9,
   "metadata": {},
   "outputs": [],
   "source": [
    "def print_earnings(principle,rate,years):\n",
    "    \"\"\"This function takes in three numbers as arguments: an initial principle, an annual interest rate, and a number of years. This function prints out the earnings \"\"\"\n",
    "    amount = principle*math.exp((rate/100)*years)\n",
    "    print(\"Initial Principle: $\"+str(principle))\n",
    "    print(\"Annual interest rate: %\"+str(round(rate,2)))\n",
    "    print(\"Interest earned in \",years,\"years: $\",round(amount-principle,2))\n",
    "    print(\"Total value after \"+str(years)+\" years: $\"+str(round(amount,2)))"
   ]
  },
  {
   "cell_type": "code",
   "execution_count": 10,
   "metadata": {},
   "outputs": [
    {
     "name": "stdout",
     "output_type": "stream",
     "text": [
      "Initial Principle: $1000\n",
      "Annual interest rate: %6\n",
      "Interest earned in  5 years: $ 349.86\n",
      "Total value after 5 years: $1349.86\n"
     ]
    }
   ],
   "source": [
    "print_earnings(1000,6,5)"
   ]
  },
  {
   "cell_type": "markdown",
   "metadata": {},
   "source": [
    "Define a function **`value_of_change()`** that takes in **named** arguments representing amounts of different US coins (`quarters`, `dimes`, `nickels`, and `pennies`)--each of the arguments should have a default value of `0`. The function should _return_ the total value in dollars of those coins. For example, 5 quarters, 4 dimes, 3, nickels, and 2 pennies have a value of `1.82` dollars."
   ]
  },
  {
   "cell_type": "code",
   "execution_count": 11,
   "metadata": {},
   "outputs": [
    {
     "name": "stdout",
     "output_type": "stream",
     "text": [
      "1.82\n"
     ]
    }
   ],
   "source": [
    "def value_of_change(quarters=0,dimes=0,nickles=0,pennies=0):\n",
    "    \"\"\"This function takes in named arguments representing amounts of different US coins - quarters, dimes, nickels, and pennies. Returns the total value in dollars of those coins\"\"\"\n",
    "    dollars = quarters*0.25+dimes*0.1+nickles*0.05+pennies*0.01\n",
    "    return round(dollars,2)       \n",
    "print(value_of_change(5,4,3,2))"
   ]
  },
  {
   "cell_type": "markdown",
   "metadata": {},
   "source": [
    "Define a function **`consolidate_change`** that takes as arguments counts of different US coins (similar to the previous function) and prints out the _simplest_ number of bills and coins needed to make that amount.\n",
    "\n",
    "For example, when called with arguments of 10 quarters, 9 dimes, 8 nickels, and 7 pennies, the function should print:\n",
    "\n",
    "```\n",
    "Number of dollars: 3\n",
    "Number of quarters: 3\n",
    "Number of dimes: 1\n",
    "Number of nickels: 0\n",
    "Number of pennies: 2\n",
    "Total amount: $3.87\n",
    "```\n",
    "\n",
    "You _must_ use your previous `value_of_change()` method in this calculation. _Hint:_ think about converting the coins to a giant pile of pennies, and then determining how many (whole number) dollars you can divide them into. Then put those pennies aside, and determine how many (whole number) quarters you can make with the rest, etc."
   ]
  },
  {
   "cell_type": "code",
   "execution_count": 51,
   "metadata": {},
   "outputs": [],
   "source": [
    "import math\n",
    "def consolidate_change(quarters=0,dimes=0,nickles=0,pennies=0):\n",
    "    \"\"\"takes as arguments counts of different US coins and prints out the simplest number of bills and coins needed to make that amount.\"\"\"\n",
    "    q=0\n",
    "    d=0\n",
    "    n=0\n",
    "    p=0\n",
    "    dollars = value_of_change(quarters,dimes,nickles,pennies)\n",
    "    dollars_rounded = math.floor(dollars)\n",
    "    change=dollars - dollars_rounded\n",
    "    if change>0.25:\n",
    "        q = change//0.25\n",
    "        change = change - q*0.25\n",
    "        change = round(change,2)\n",
    "    if change >= 0.1:\n",
    "        d = change//0.1\n",
    "        change = change - d*0.1\n",
    "        change = round(change,2)\n",
    "    if change >= 0.05:\n",
    "        n = change//0.05\n",
    "        change = change - n*0.05\n",
    "        change = round(change,2)\n",
    "    if change >=0.01:\n",
    "        p = round(change*100,2)\n",
    "    print(\"Number of dollars: \",dollars_rounded)\n",
    "    print(\"Number of quarters: \",int(q))\n",
    "    print(\"Number of dimes: \",int(d))\n",
    "    print(\"Number of nickels: \",int(n))\n",
    "    print(\"Number of pennies: \",int(p))\n",
    "    print(\"Total amount: \",round(dollars,2))"
   ]
  },
  {
   "cell_type": "code",
   "execution_count": 54,
   "metadata": {},
   "outputs": [
    {
     "name": "stdout",
     "output_type": "stream",
     "text": [
      "Number of dollars:  3\n",
      "Number of quarters:  3\n",
      "Number of dimes:  1\n",
      "Number of nickels:  0\n",
      "Number of pennies:  2\n",
      "Total amount:  3.87\n",
      "None\n"
     ]
    }
   ],
   "source": [
    "print(consolidate_change(10,9,8,7))"
   ]
  },
  {
   "cell_type": "markdown",
   "metadata": {},
   "source": [
    "## Part 3. Time"
   ]
  },
  {
   "cell_type": "markdown",
   "metadata": {},
   "source": [
    "Use the [date()](https://docs.python.org/3/library/datetime.html#datetime.date) function from the `datetime` module to create a variable **`summer_break`** that represents the first day of Summer break (June 9, 2018). Note that this function will return a value of type `date`."
   ]
  },
  {
   "cell_type": "code",
   "execution_count": 13,
   "metadata": {},
   "outputs": [
    {
     "name": "stdout",
     "output_type": "stream",
     "text": [
      "2018-06-09\n"
     ]
    }
   ],
   "source": [
    "import datetime as dt\n",
    "first_day_summer = dt.date(2018,6,9)\n",
    "print(first_day_summer)"
   ]
  },
  {
   "cell_type": "markdown",
   "metadata": {},
   "source": [
    "Create a variable **`days_to_break`** that is how many days from the _current date_ (today--look for a method of the [date class](https://docs.python.org/3/library/datetime.html#date-objects)) to Summer break. _Hint:_ variables of the `date` type support the subtraction operator! Print the variable after you create it; it's fine if the printed result includes a `00:00:00` timestamp."
   ]
  },
  {
   "cell_type": "code",
   "execution_count": 14,
   "metadata": {},
   "outputs": [
    {
     "name": "stdout",
     "output_type": "stream",
     "text": [
      "2018-04-10\n",
      "60 days, 0:00:00\n"
     ]
    }
   ],
   "source": [
    "days_to_break = first_day_summer - dt.date.today()\n",
    "print(dt.date.today())\n",
    "print(days_to_break)"
   ]
  },
  {
   "cell_type": "markdown",
   "metadata": {},
   "source": [
    "Define a function **`can_drink_us()`** that takes as an argument a birth date (as a `date` value). This function should _return_ the `date` in which a person born on that day can legally purchase alcohol in the US (i.e., when they turn 21 years old).\n",
    "\n",
    "In order to calculate this date, you should use the [dateutil.relativedelta](https://dateutil.readthedocs.io/en/stable/relativedelta.html) library, which is included with Anaconda. You will need to import the `relativedelta` function from this library, which will let you specify a \"time change\" in terms of years that can then be added to a date. See [the examples](https://dateutil.readthedocs.io/en/stable/examples.html#relativedelta-examples) for details.\n",
    "\n",
    "Demonstrate your function works by printing out when someone born _today_ will be able to legally drink."
   ]
  },
  {
   "cell_type": "code",
   "execution_count": 15,
   "metadata": {},
   "outputs": [
    {
     "name": "stdout",
     "output_type": "stream",
     "text": [
      "2039-04-10\n"
     ]
    }
   ],
   "source": [
    "from dateutil import relativedelta as rd\n",
    "def can_drink_us(date):\n",
    "    \"\"\"Takes as an argument a birth date. This function returns the date in which a person born on that day can legally purchase alcohol in the US\"\"\"\n",
    "    drinking_age=date+rd.relativedelta(years=21)\n",
    "    return drinking_age\n",
    "\n",
    "#date = dt.datetime.strptime('16111992', \"%d%m%Y\").date()\n",
    "print(can_drink_us(dt.date.today()))    "
   ]
  },
  {
   "cell_type": "markdown",
   "metadata": {},
   "source": [
    "Define a function **`make_birthday_intro()`** that takes in two arguments: a name (`string`), and a birth date (`date`). This function should _return_ a string of the format `\"Hello, my name is {NAME} and I'm {AGE} years old. In {N} days I'll be {NEW_AGE}\"` (replacing `{NAME}`, `{AGE}`, `{N}`, and `{NEW_AGE}` with appropriate values).\n",
    "\n",
    "- You should utilize your **`make_introduction()`** function from Part 1! You may need to calculate a variable to pass into that function call.\n",
    "- _Hint_: use the `relativedelta()` function to calculate the person's current age, as well as when they will turn 1 year older. You can get the number of days or years from a `relativedelta` value (e.g., `time_difference`) by accessing the `.days` or `.years` properties (e.g., `time_difference.years`)."
   ]
  },
  {
   "cell_type": "code",
   "execution_count": 16,
   "metadata": {},
   "outputs": [],
   "source": [
    "def make_birthday_intro(name,birth_date):\n",
    "    \"\"\"Takes in two arguments: a name (string), and a birth date (date). This function returns a string with intorduction and days before next birthday. \"\"\"\n",
    "    age = rd.relativedelta(dt.date.today(),birth_date).years\n",
    "    a = make_introduction(name,age)\n",
    "    n = (birth_date + rd.relativedelta(years=age+1)) - dt.datetime.today().date()\n",
    "    e = n.days\n",
    "    b = \" In \"+str(e)+\" days I'll be \"+str(age+1)+\".\"\n",
    "    c = a+b\n",
    "    return c"
   ]
  },
  {
   "cell_type": "markdown",
   "metadata": {},
   "source": [
    "Create a variable **`my_bday_intro`** by calling your `make_birthday_intro()` function and passing in your name (already a variable!) and your birthdate. Print the variable after you create it. "
   ]
  },
  {
   "cell_type": "code",
   "execution_count": 17,
   "metadata": {},
   "outputs": [
    {
     "name": "stdout",
     "output_type": "stream",
     "text": [
      "Hello, my name is Sahil and I'm 25 years old. In 220 days I'll be 26.\n"
     ]
    }
   ],
   "source": [
    "#my_bday_intro = make_birthday_intro('Sahil',dt.datetime.strptime('16111992', \"%d%m%Y\").date())\n",
    "my_bday_intro = make_birthday_intro('Sahil',dt.date(1992,11,16))\n",
    "print(my_bday_intro)"
   ]
  }
 ],
 "metadata": {
  "kernelspec": {
   "display_name": "Python 3",
   "language": "python",
   "name": "python3"
  },
  "language_info": {
   "codemirror_mode": {
    "name": "ipython",
    "version": 3
   },
   "file_extension": ".py",
   "mimetype": "text/x-python",
   "name": "python",
   "nbconvert_exporter": "python",
   "pygments_lexer": "ipython3",
   "version": "3.6.5"
  }
 },
 "nbformat": 4,
 "nbformat_minor": 2
}
